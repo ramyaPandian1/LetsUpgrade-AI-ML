{
 "cells": [
  {
   "cell_type": "markdown",
   "metadata": {},
   "source": [
    "#### 1. Research on whether addition, subtraction, multiplication, division, floor division and modulo operations be performed on complex numbers. Based on your study, implement a Python program to demonstrate these operations."
   ]
  },
  {
   "cell_type": "code",
   "execution_count": 32,
   "metadata": {},
   "outputs": [
    {
     "name": "stdout",
     "output_type": "stream",
     "text": [
      "(1+1j)\n",
      "(7+13j)\n",
      "(1.2-0.06666666666666667j)\n",
      "(-30+45j)\n"
     ]
    }
   ],
   "source": [
    "# Floor division and modulo operations cant be performed for complex numbers. \n",
    "a = 4 + 7j \n",
    "b = 3 + 6j\n",
    "print(a-b)\n",
    "print(a+b)\n",
    "print(a/b)\n",
    "print(a * b)\n",
    "#print(a//b) ---> TypeError: can't floor complex numbers.\n",
    "# print(a %b) --> TypeError: can't mod complex numbers."
   ]
  },
  {
   "cell_type": "markdown",
   "metadata": {},
   "source": [
    "#### 2. Research on range() functions and its parameters. Create a markdown cell and write in your own words (no copy-paste from google please) what you understand about it. Implement a small program of your choice on the same."
   ]
  },
  {
   "cell_type": "markdown",
   "metadata": {},
   "source": [
    "## Range\n",
    "    - syntax rannge(starting index : ending index : step)\n",
    "    - starting index is included but ending index is not included\n",
    "    - step => numbers to jump\n",
    "    - range can print sequence of numbers \n",
    "   "
   ]
  },
  {
   "cell_type": "code",
   "execution_count": 33,
   "metadata": {},
   "outputs": [
    {
     "name": "stdout",
     "output_type": "stream",
     "text": [
      "0 1 2 3 4 "
     ]
    }
   ],
   "source": [
    "#### range with no starting indes will take from 0 \n",
    "for i in range(5):\n",
    "    print(i,end=\" \")"
   ]
  },
  {
   "cell_type": "code",
   "execution_count": 34,
   "metadata": {},
   "outputs": [
    {
     "name": "stdout",
     "output_type": "stream",
     "text": [
      "1 is less than 5\n",
      "2 is less than 5\n",
      "3 is less than 5\n",
      "4 is less than 5\n",
      "5 is less than 5\n",
      "6 is greater than 5\n",
      "7 is greater than 5\n",
      "8 is greater than 5\n",
      "9 is greater than 5\n"
     ]
    }
   ],
   "source": [
    "### range with starting index and ending index\n",
    "for i in range(1,10):\n",
    "    if i > 5:\n",
    "        print(\"{} is greater than 5\".format(i))\n",
    "    else:\n",
    "        print(\"{} is less than 5\".format(i))"
   ]
  },
  {
   "cell_type": "code",
   "execution_count": 35,
   "metadata": {},
   "outputs": [
    {
     "name": "stdout",
     "output_type": "stream",
     "text": [
      "1 3 5 7 9 "
     ]
    }
   ],
   "source": [
    "### range with starting index and ending index and step to jump\n",
    "for i in range(1,10,2):\n",
    "    print(i,end=\" \")"
   ]
  },
  {
   "cell_type": "code",
   "execution_count": 36,
   "metadata": {},
   "outputs": [
    {
     "name": "stdout",
     "output_type": "stream",
     "text": [
      "2 3 5 6 7 8 "
     ]
    }
   ],
   "source": [
    "### range using list\n",
    "list1 = [2,3,5,6,7,8]\n",
    "for i in range(0 , len(list1)):\n",
    "    print(list1[i],end=\" \")"
   ]
  },
  {
   "cell_type": "markdown",
   "metadata": {},
   "source": [
    "#### 3. Consider two numbers. Perform their subtraction and if the result of subtraction is greater than 25, print their multiplication result else print their division result."
   ]
  },
  {
   "cell_type": "code",
   "execution_count": 37,
   "metadata": {},
   "outputs": [
    {
     "name": "stdout",
     "output_type": "stream",
     "text": [
      "enter first number38\n",
      "enter second number10\n",
      "380\n"
     ]
    }
   ],
   "source": [
    "a = int(input(\"enter first number \"))\n",
    "b= int(input(\"enter second number \"))\n",
    "c = a-b\n",
    "if c > 25:\n",
    "    print(a * b)\n",
    "else:\n",
    "    print(a/b)"
   ]
  },
  {
   "cell_type": "markdown",
   "metadata": {},
   "source": [
    "#### 4. Consider a list of 10 elements of integer values. If the number in the list is divisible by 2, print the result as \"square of that number minus 2\"."
   ]
  },
  {
   "cell_type": "code",
   "execution_count": 28,
   "metadata": {},
   "outputs": [
    {
     "name": "stdout",
     "output_type": "stream",
     "text": [
      "2 62 98 142 9998 142 "
     ]
    }
   ],
   "source": [
    "list1 = [2,3,7,8,10,12,13,57,100,12]\n",
    "for i in list1:\n",
    "    if i % 2 == 0:\n",
    "        print(i ** 2 - 2 , end=\" \")"
   ]
  },
  {
   "cell_type": "markdown",
   "metadata": {},
   "source": [
    "#### 5.Consider a list of 10 elements. Print all the elements in the list which are greater than 7 when that number is divided 2.\n"
   ]
  },
  {
   "cell_type": "code",
   "execution_count": 31,
   "metadata": {},
   "outputs": [
    {
     "name": "stdout",
     "output_type": "stream",
     "text": [
      "100\n",
      "108\n"
     ]
    }
   ],
   "source": [
    "list1 = [2,3,7,8,10,12,13,57,100,108,203]\n",
    "for i in list1:\n",
    "    if i % 2 == 0:\n",
    "        if i/2 > 7:\n",
    "            print(i)\n",
    "            \n",
    "        "
   ]
  }
 ],
 "metadata": {
  "kernelspec": {
   "display_name": "Python 3",
   "language": "python",
   "name": "python3"
  },
  "language_info": {
   "codemirror_mode": {
    "name": "ipython",
    "version": 3
   },
   "file_extension": ".py",
   "mimetype": "text/x-python",
   "name": "python",
   "nbconvert_exporter": "python",
   "pygments_lexer": "ipython3",
   "version": "3.7.6"
  }
 },
 "nbformat": 4,
 "nbformat_minor": 4
}
