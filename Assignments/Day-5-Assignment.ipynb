{
 "cells": [
  {
   "cell_type": "markdown",
   "metadata": {},
   "source": [
    "### 1. Write a Python program to find the first 20 non-even prime natural numbers."
   ]
  },
  {
   "cell_type": "code",
   "execution_count": 83,
   "metadata": {},
   "outputs": [
    {
     "name": "stdout",
     "output_type": "stream",
     "text": [
      "20\n",
      "[3, 5, 7, 11, 13, 17, 19, 23, 29, 31, 37, 41, 43, 47, 53, 59, 61, 67, 71, 73]\n"
     ]
    }
   ],
   "source": [
    "import sympy\n",
    "primeList =[]\n",
    "for i in range(3,100):\n",
    "    if sympy.isprime(i):\n",
    "        primeList.append(i)\n",
    "        if len(primeList) == 20:\n",
    "            break             \n",
    "        \n",
    "print(len(primeList))\n",
    "print(primeList)"
   ]
  },
  {
   "cell_type": "markdown",
   "metadata": {},
   "source": [
    "### 2. Write a Python program to implement 15 functions of string.\n"
   ]
  },
  {
   "cell_type": "code",
   "execution_count": 45,
   "metadata": {},
   "outputs": [
    {
     "name": "stdout",
     "output_type": "stream",
     "text": [
      "Capitalize :   hello string\n",
      "casefold :   hello string\n",
      "count : 2\n",
      "Length : 14\n",
      "endswith eg1 : False\n",
      "endswith eg 2: True\n",
      "Index : 9\n",
      "Upper :   HELLO STRING\n",
      "lower : hello string function assignment\n",
      "find : 12\n",
      "strip : hello string\n",
      "Capitalize :  True\n",
      "Capitalize :  False\n",
      "Capitalize :  True\n",
      "Capitalize :    HELLO STRING\n",
      "Capitalize :  ['', '', 'hello', 'string']\n"
     ]
    }
   ],
   "source": [
    "str1 = \"  hello string\"\n",
    "str2 = \"HELLO STRING FUNCTION ASSIGNMENT\"\n",
    "str3 = \"li98k1e\"\n",
    "print(\"Capitalize :\", str1.capitalize())  #1\n",
    "print(\"casefold :\", str1.casefold())      #2\n",
    "print(\"count :\", str1.count(\"l\"))         #3\n",
    "print(\"Length :\", len(str1))              #4\n",
    "print(\"endswith eg1 :\", str1.endswith(\"s\")) #5\n",
    "print(\"endswith eg 2:\", str1.endswith(\"g\")) #5\n",
    "print(\"Index :\", str1.index(\"t\"))           #6\n",
    "print(\"Upper :\", str1.upper())              #7\n",
    "print(\"lower :\", str2.lower())              #8\n",
    "print(\"find :\", str1.find(\"n\"))             #9\n",
    "print(\"strip :\", str1.strip())              #10\n",
    "print(\"alnum : \", str3.isalnum())      #11\n",
    "print(\"isalpha : \", str1.isalpha())      #12\n",
    "print(\"islower : \", str1.islower())      #13\n",
    "print(\"swapcase : \", str1.swapcase())     #14\n",
    "print(\"split : \", str1.split(\" \"))     #15\n"
   ]
  },
  {
   "cell_type": "markdown",
   "metadata": {},
   "source": [
    "### 3. Write a Python program to check if the given string is a Palindrome or Anagram or None of them.Display the message accordingly to the user"
   ]
  },
  {
   "cell_type": "code",
   "execution_count": 69,
   "metadata": {},
   "outputs": [
    {
     "name": "stdout",
     "output_type": "stream",
     "text": [
      "enter string1 :check\n",
      "enter string 2 to check anagram check\n",
      "anagram\n"
     ]
    }
   ],
   "source": [
    "userInput = input(\"enter string1 :\")\n",
    "anagramString = input(\"enter string 2 to check anagram \")\n",
    "if userInput == userInput[::-1]:\n",
    "    print(\"Palindrome\")\n",
    "elif sorted(userInput) == sorted(anagramString):\n",
    "     print(\"anagram\")\n",
    "else:\n",
    "    print(\"None\")"
   ]
  },
  {
   "cell_type": "code",
   "execution_count": 71,
   "metadata": {},
   "outputs": [
    {
     "name": "stdout",
     "output_type": "stream",
     "text": [
      "enter string1 :madam\n",
      "enter string 2 to check anagram null\n",
      "Palindrome\n"
     ]
    }
   ],
   "source": [
    "userInput = input(\"enter string1 :\")\n",
    "anagramString = input(\"enter string 2 to check anagram \")\n",
    "if userInput == userInput[::-1]:\n",
    "    print(\"Palindrome\")\n",
    "elif sorted(userInput) == sorted(anagramString):\n",
    "    print(\"anagram\")\n",
    "else:\n",
    "    print(\"None\")"
   ]
  },
  {
   "cell_type": "code",
   "execution_count": 72,
   "metadata": {},
   "outputs": [
    {
     "name": "stdout",
     "output_type": "stream",
     "text": [
      "enter string1 :earth\n",
      "enter string 2 to check anagram arths\n",
      "None\n"
     ]
    }
   ],
   "source": [
    "userInput = input(\"enter string1 :\")\n",
    "anagramString = input(\"enter string 2 to check anagram \")\n",
    "if userInput == userInput[::-1]:\n",
    "    print(\"Palindrome\")\n",
    "elif sorted(userInput) == sorted(anagramString):\n",
    "    print(\"anagram\")\n",
    "else:\n",
    "    print(\"None\")"
   ]
  },
  {
   "cell_type": "markdown",
   "metadata": {},
   "source": [
    "### 4.Write a Python's user defined function that removes all the additional characters from the string and converts it finally to lower case using built-in lower(). eg: If the string is \"Dr. Darshan Ingle @AI-ML Trainer\", then the output be \"drdarshaningleaimltrainer\"."
   ]
  },
  {
   "cell_type": "code",
   "execution_count": 75,
   "metadata": {},
   "outputs": [
    {
     "data": {
      "text/plain": [
       "'drdarshaningleaimltrainer'"
      ]
     },
     "execution_count": 75,
     "metadata": {},
     "output_type": "execute_result"
    }
   ],
   "source": [
    "def removeAdditionalChar(a):\n",
    "    list1=[]\n",
    "    for i in a:\n",
    "        if i.isalpha():\n",
    "            list1.append(i)\n",
    "    return list1\n",
    "a = \"Dr. Darshan Ingle @AI-ML Trainer\"\n",
    "str1 = \"\"\n",
    "x = removeAdditionalChar(a)\n",
    "str1.join(x).lower()"
   ]
  }
 ],
 "metadata": {
  "kernelspec": {
   "display_name": "Python 3",
   "language": "python",
   "name": "python3"
  },
  "language_info": {
   "codemirror_mode": {
    "name": "ipython",
    "version": 3
   },
   "file_extension": ".py",
   "mimetype": "text/x-python",
   "name": "python",
   "nbconvert_exporter": "python",
   "pygments_lexer": "ipython3",
   "version": "3.7.6"
  }
 },
 "nbformat": 4,
 "nbformat_minor": 4
}
