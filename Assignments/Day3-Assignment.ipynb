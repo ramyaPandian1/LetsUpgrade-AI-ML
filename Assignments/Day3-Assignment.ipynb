{
 "cells": [
  {
   "cell_type": "markdown",
   "metadata": {},
   "source": [
    "### 1.Write a program to subtract two complex numbers in Python.\n"
   ]
  },
  {
   "cell_type": "code",
   "execution_count": 5,
   "metadata": {},
   "outputs": [
    {
     "name": "stdout",
     "output_type": "stream",
     "text": [
      "(-4+7j)\n"
     ]
    }
   ],
   "source": [
    "a = 3 +4j\n",
    "b = 7 - 3j\n",
    "\n",
    "print(a -b)"
   ]
  },
  {
   "cell_type": "code",
   "execution_count": 6,
   "metadata": {},
   "outputs": [
    {
     "name": "stdout",
     "output_type": "stream",
     "text": [
      "(4-7j)\n"
     ]
    }
   ],
   "source": [
    "a = 3 +4j\n",
    "b = 7 - 3j\n",
    "\n",
    "print(b-a)"
   ]
  },
  {
   "cell_type": "markdown",
   "metadata": {},
   "source": [
    "### 2. Write a program to find the fourth root of a number."
   ]
  },
  {
   "cell_type": "code",
   "execution_count": 15,
   "metadata": {},
   "outputs": [
    {
     "name": "stdout",
     "output_type": "stream",
     "text": [
      "4.0\n"
     ]
    }
   ],
   "source": [
    "import math\n",
    "a = 256\n",
    "b = math.sqrt(math.sqrt(a))\n",
    "print(b)"
   ]
  },
  {
   "cell_type": "markdown",
   "metadata": {},
   "source": [
    "### 3. Write a program to swap two numbers in Python with the help of a temporary variable."
   ]
  },
  {
   "cell_type": "code",
   "execution_count": 16,
   "metadata": {},
   "outputs": [
    {
     "name": "stdout",
     "output_type": "stream",
     "text": [
      "Num1 54 Num2 34\n"
     ]
    }
   ],
   "source": [
    "num1 = 34\n",
    "num2 = 54\n",
    "temp = num2\n",
    "num2= num1\n",
    "num1 = temp\n",
    "print(\"Num1\" , num1 , \"Num2\", num2)\n"
   ]
  },
  {
   "cell_type": "markdown",
   "metadata": {},
   "source": [
    "### 4. Write a program to swap two numbers in Python without using a temporary variable."
   ]
  },
  {
   "cell_type": "code",
   "execution_count": 20,
   "metadata": {},
   "outputs": [
    {
     "name": "stdout",
     "output_type": "stream",
     "text": [
      "Num1 76 Num2 89\n"
     ]
    }
   ],
   "source": [
    "num1 = 89\n",
    "num2 = 76\n",
    "num1 = num1 + num2\n",
    "num2 = num1 - num2\n",
    "num1 = num1 - num2\n",
    "print(\"Num1\" , num1 , \"Num2\", num2)"
   ]
  },
  {
   "cell_type": "markdown",
   "metadata": {},
   "source": [
    "### 5. Write a program to convert fahrenheit to kelvin and celsius both."
   ]
  },
  {
   "cell_type": "code",
   "execution_count": 25,
   "metadata": {},
   "outputs": [
    {
     "name": "stdout",
     "output_type": "stream",
     "text": [
      "Fahrenheit to celsius 19.444444444444446\n",
      "Celsius to fahrenheit 67.0\n"
     ]
    }
   ],
   "source": [
    "# Fahrenheit to celsius \n",
    "F = 67 # this is fahrenheit \n",
    "celsius=(F - 32) * (5/9)\n",
    "print(\"Fahrenheit to celsius\",celsius)\n",
    "# celsius to Fahrenheit\n",
    "fahrenheit = (celsius * (9/5)) + 32\n",
    "print(\"Celsius to fahrenheit\",fahrenheit)"
   ]
  },
  {
   "cell_type": "markdown",
   "metadata": {},
   "source": [
    "### 6. Write a program to demonstrate all the available data types in Python. Hint: Use type() function.\n"
   ]
  },
  {
   "cell_type": "code",
   "execution_count": 37,
   "metadata": {},
   "outputs": [
    {
     "name": "stdout",
     "output_type": "stream",
     "text": [
      "str type  <class 'str'>\n",
      "int type <class 'int'>\n",
      "boolean type  <class 'bool'>\n",
      "complex type  <class 'complex'>\n",
      "float type  <class 'float'>\n",
      "list type  <class 'list'>\n",
      "bytes type <class 'bytes'>\n",
      "tuple type <class 'tuple'>\n",
      "dic type <class 'dict'>\n",
      "set type <class 'set'>\n"
     ]
    }
   ],
   "source": [
    "# datatypes - string \n",
    "a = \"hello\"\n",
    "print(\"str type \" , type(a))\n",
    "\n",
    "b = 2\n",
    "print(\"int type\", type(b))\n",
    "\n",
    "c = True\n",
    "print(\"boolean type \", type(c))\n",
    "\n",
    "d = 3 +4j\n",
    "print(\"complex type \", type(d))\n",
    "\n",
    "e = 1.3\n",
    "print(\"float type \", type(e))\n",
    "\n",
    "list1 = [1,4,6]\n",
    "print(\"list type \", type(list1))\n",
    "\n",
    "f = b\"bytes\"\n",
    "print(\"bytes type\", type(f))\n",
    "\n",
    "tup = (4,6,7)\n",
    "print(\"tuple type\", type(tup))\n",
    "\n",
    "dic = dict(name = \"xx\" , course= \"LetsUpgrade\", Amount = 20000)\n",
    "print(\"dic type\", type(dic))\n",
    "\n",
    "settype = set((1,5,6,7))\n",
    "print(\"set type\", type(settype))"
   ]
  },
  {
   "cell_type": "markdown",
   "metadata": {},
   "source": [
    "### 7. Create a Markdown cell in jupyter and list the steps discussed in the session by Dr. Darshan Ingle sir to create Github profile and upload Githubs Assignment link"
   ]
  },
  {
   "cell_type": "markdown",
   "metadata": {},
   "source": [
    "### How to create github profile and repository file in githubs link\n",
    "    - Go to github.com and create one account \n",
    "    - click on new repository > and give name LetsUpgrade AI/ML\n",
    "    - leave the repo as public so that all can see that repo\n",
    "    - leave remaining all and click create \n",
    "\n",
    "### To upload the file \n",
    "    - click on upload existing file select the folder and click open \n",
    "    - Now its successfully uploaded \n",
    "After this uploaded copy the link and paste in google form provided by letsupgrade team\n"
   ]
  },
  {
   "cell_type": "code",
   "execution_count": null,
   "metadata": {},
   "outputs": [],
   "source": []
  }
 ],
 "metadata": {
  "kernelspec": {
   "display_name": "Python 3",
   "language": "python",
   "name": "python3"
  },
  "language_info": {
   "codemirror_mode": {
    "name": "ipython",
    "version": 3
   },
   "file_extension": ".py",
   "mimetype": "text/x-python",
   "name": "python",
   "nbconvert_exporter": "python",
   "pygments_lexer": "ipython3",
   "version": "3.7.6"
  }
 },
 "nbformat": 4,
 "nbformat_minor": 4
}
