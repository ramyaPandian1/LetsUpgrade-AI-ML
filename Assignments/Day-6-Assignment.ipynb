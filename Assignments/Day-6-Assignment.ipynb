{
 "cells": [
  {
   "cell_type": "markdown",
   "metadata": {},
   "source": [
    "#### 1. Assuming that we have some email addresses in the \"username@companyname.com\" format, please write program to print the company name of a given email address. Both user names and company names are composed of letters only.\n",
    "     - Input Format:\n",
    "            The first line of the input contains an email address.\n",
    "      Output Format:\n",
    "        Print the company name in single line.\n",
    "        Example;\n",
    "        Input:\n",
    "        john@google.com\n",
    "        Output:\n",
    "        google"
   ]
  },
  {
   "cell_type": "code",
   "execution_count": 18,
   "metadata": {},
   "outputs": [
    {
     "name": "stdout",
     "output_type": "stream",
     "text": [
      "enter email address : username@gmail.com\n",
      "gmail\n"
     ]
    }
   ],
   "source": [
    "email = input(\"enter email address : \")\n",
    "s = email.split(\"@\")\n",
    "companyName = s[1].split(\".\")\n",
    "print(companyName[0])"
   ]
  },
  {
   "cell_type": "markdown",
   "metadata": {},
   "source": [
    "#### 2. Write a program that accepts a comma-separated sequence of words as input and prints the words in a comma separated sequence after sorting them alphabetically.\n",
    "    Input Format:\n",
    "    The first line of input contains words separated by the comma.\n",
    "    Output Format:\n",
    "    Print the sorted words separated by the comma.\n",
    "    Example:\n",
    "    Input:\n",
    "    without,hello,bag,world\n",
    "    Output:\n",
    "    bag,hello,without,world"
   ]
  },
  {
   "cell_type": "code",
   "execution_count": 17,
   "metadata": {},
   "outputs": [
    {
     "name": "stdout",
     "output_type": "stream",
     "text": [
      "enter sequence of words seperated by comma :  without,hello,bag,world\n",
      "bag,hello,without,world"
     ]
    }
   ],
   "source": [
    "userInput = input(\"enter sequence of words seperated by comma :  \")\n",
    "s = userInput.split(\",\")\n",
    "output = sorted(s)\n",
    "for i in output:\n",
    "    if(output.index(i) == len(output) -1):\n",
    "        print(i , end=\"\")\n",
    "    else:\n",
    "        print(i , end=\",\")"
   ]
  },
  {
   "cell_type": "markdown",
   "metadata": {},
   "source": [
    "### 3. Create your own Jupyter Notebook for Sets.\n",
    "    Reference link: https://www.w3schools.com/python/python_sets.asp"
   ]
  },
  {
   "cell_type": "markdown",
   "metadata": {},
   "source": [
    "## SETS \n",
    "    - A set is a collection which is unordered and unindexed. In Python sets are written with curly brackets.\n",
    "    - to create set => set1 = {1,2,3,4,5}"
   ]
  },
  {
   "cell_type": "code",
   "execution_count": 2,
   "metadata": {},
   "outputs": [
    {
     "name": "stdout",
     "output_type": "stream",
     "text": [
      "{'banana', 'cherry', 'apple'}\n"
     ]
    }
   ],
   "source": [
    "thisset = {\"apple\", \"banana\", \"cherry\"}\n",
    "print(thisset)"
   ]
  },
  {
   "cell_type": "code",
   "execution_count": 3,
   "metadata": {},
   "outputs": [
    {
     "data": {
      "text/plain": [
       "{'apple', 'banana', 'cherry', 'hello'}"
      ]
     },
     "execution_count": 3,
     "metadata": {},
     "output_type": "execute_result"
    }
   ],
   "source": [
    "# adding into set\n",
    "thisset.add('hello')\n",
    "thisset"
   ]
  },
  {
   "cell_type": "code",
   "execution_count": 4,
   "metadata": {},
   "outputs": [],
   "source": [
    "set2 = {\"apple\", \"mango\" , \"cherry\",\"banana\", \"grapes\"}\n"
   ]
  },
  {
   "cell_type": "code",
   "execution_count": 15,
   "metadata": {},
   "outputs": [
    {
     "name": "stdout",
     "output_type": "stream",
     "text": [
      "{'cherry', 'apple', 'banana'}\n",
      "{'banana', 'hi', 'You', 'mango', 'are', 'grapes', 'apple', 'cherry', 'how'}\n",
      "False\n",
      "7\n",
      "{'banana', 'hi', 'You', 'hello', 'are', 'apple', 'cherry', 'how'}\n",
      "{'banana', 'hi', 'You', 'are', 'apple', 'cherry', 'how'}\n",
      "{'banana', 'hi', 'You', 'apple', 'cherry', 'how'}\n"
     ]
    }
   ],
   "source": [
    "# Intersection of 2 sets \n",
    "print(thisset.intersection(set2))\n",
    "# union of two sets \n",
    "print(thisset.union(set2))\n",
    "# to find the superset \n",
    "print(thisset.issuperset(set2))\n",
    "# len of the set \n",
    "print(len(thisset))\n",
    "# to update with more than one item\n",
    "thisset.update([\"hello\" , \"hi\", \"how\" , \"are\", \"You\"])\n",
    "print(thisset)\n",
    "# To remove an item in set using remove()\n",
    "thisset.remove('hello')\n",
    "print(thisset)\n",
    "# remove using discard\n",
    "thisset.discard('are')\n",
    "print(thisset)"
   ]
  },
  {
   "cell_type": "markdown",
   "metadata": {},
   "source": [
    "#### 4. Given a list of n-1 numbers ranging from 1 to n, your task is to find the missing number. There are no duplicates.\n",
    "    Input Format:\n",
    "    The first line contains n-1 numbers with each number separated by a space.\n",
    "    Output Format:\n",
    "    Print the missing number\n",
    "    Example:\n",
    "    Input:1 2 4 6 3 7 8\n",
    "    Output:5\n",
    "    Explanation:\n",
    "    In the above list of numbers 5 is missing and hence 5 is the input"
   ]
  },
  {
   "cell_type": "code",
   "execution_count": 39,
   "metadata": {},
   "outputs": [
    {
     "name": "stdout",
     "output_type": "stream",
     "text": [
      "1 2 4 6 3 7 8\n",
      "[1, 2, 3, 4, 5, 6, 7]\n"
     ]
    }
   ],
   "source": [
    "userInput = list(map(int , input().split(\" \")))\n",
    "lenghth  = len(userInput)\n",
    "rangeNum = []\n",
    "for i in range(userInput[0],lenghth+1):\n",
    "    rangeNum.append(i)\n",
    "print(rangeNum)\n",
    "for i in userInput:\n",
    "    if i not in rangeNum:\n",
    "        print(i)"
   ]
  },
  {
   "cell_type": "markdown",
   "metadata": {},
   "source": [
    "#### 5. Question 5: With a given list L, write a program to print this list L after removing all duplicate values with original order reserved.\n",
    "    Example:\n",
    "    If the input list is\n",
    "    12 24 35 24 88 120 155 88 120 155\n",
    "    Then the output should be\n",
    "    12 24 35 88 120 155\n",
    "    Explanation:\n",
    "    Third, seventh and ninth element of the list L has been removed because it was already present.\n",
    "    Input Format:\n",
    "    In one line take the elements of the list L with each element separated by a space.\n",
    "    Output Format:\n",
    "    Print the elements of the modified list in one line with each element separated by a space.\n",
    "    Example:\n",
    "    Input: 12 24 35 24\n",
    "    Output:\n",
    "    12 24 35"
   ]
  },
  {
   "cell_type": "code",
   "execution_count": 1,
   "metadata": {},
   "outputs": [
    {
     "name": "stdout",
     "output_type": "stream",
     "text": [
      "12 24 35 24 88 120 155 88 120 155\n",
      "12 24 35 88 120 155 "
     ]
    }
   ],
   "source": [
    "userInput = list(map(int , input().split(\" \")))\n",
    "output = []\n",
    "for i in userInput:\n",
    "    if i not in output:\n",
    "        output.append(i)\n",
    "for i in output:\n",
    "    print(i , end=\" \")"
   ]
  }
 ],
 "metadata": {
  "kernelspec": {
   "display_name": "Python 3",
   "language": "python",
   "name": "python3"
  },
  "language_info": {
   "codemirror_mode": {
    "name": "ipython",
    "version": 3
   },
   "file_extension": ".py",
   "mimetype": "text/x-python",
   "name": "python",
   "nbconvert_exporter": "python",
   "pygments_lexer": "ipython3",
   "version": "3.7.6"
  }
 },
 "nbformat": 4,
 "nbformat_minor": 4
}
